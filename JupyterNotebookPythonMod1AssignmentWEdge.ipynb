{
 "cells": [
  {
   "cell_type": "code",
   "execution_count": null,
   "id": "16e6f14f",
   "metadata": {},
   "outputs": [],
   "source": [
    "x= input()\n",
    "y= input()\n",
    "print(y,x)"
   ]
  },
  {
   "cell_type": "code",
   "execution_count": null,
   "id": "93090943",
   "metadata": {},
   "outputs": [],
   "source": [
    "n= input()\n",
    "n= int(n)\n",
    "print(n+n*n+n*n*n)"
   ]
  },
  {
   "cell_type": "code",
   "execution_count": null,
   "id": "e6c4a02d",
   "metadata": {},
   "outputs": [],
   "source": [
    "print(\"What country are you from?\")\n",
    "a= input()\n",
    "print(\"I have heard that \" + a + \" is a wonderful country!\")"
   ]
  },
  {
   "cell_type": "code",
   "execution_count": null,
   "id": "9a2613b7",
   "metadata": {},
   "outputs": [],
   "source": [
    "#There will be not output, because the conditions for the 'if' statement are unmet.\n",
    "x = 10\n",
    "y = 50\n",
    "if (x ** 2 > 100 and y < 100):\n",
    "    print(x, y)"
   ]
  },
  {
   "cell_type": "code",
   "execution_count": null,
   "id": "67d4eb4f",
   "metadata": {},
   "outputs": [],
   "source": [
    "#The addition symbol functions as a way of augmenting previously existing values list 'a'.\n",
    "a = [10, 20]\n",
    "b = a\n",
    "b += [30, 40]\n",
    "print(a)\n",
    "print(b)"
   ]
  },
  {
   "cell_type": "code",
   "execution_count": null,
   "id": "1cb5d529",
   "metadata": {},
   "outputs": [],
   "source": [
    "#The output of this code will be 2, as this function gives the remainder of a quotient. Because 6 doesn't 'fit' into 2 and because the function cannot calculate a float value, we have only the dividend as a result.\n",
    "print(2%6)"
   ]
  },
  {
   "cell_type": "code",
   "execution_count": null,
   "id": "2edb5201",
   "metadata": {},
   "outputs": [],
   "source": [
    "#The output of the following code is 72. We have the arithmetic operators * and ** which mean 'multiply' and 'exponent' respectively. All of these operations are carried out in PEMDAS order.\n",
    "print(2 * 3 ** 3 * 4)"
   ]
  },
  {
   "cell_type": "code",
   "execution_count": null,
   "id": "d43045ad",
   "metadata": {},
   "outputs": [],
   "source": [
    "# A text editor is any word processor whose text can be used as code when exported to a command line or coding environment, provided the text in question is sytntactically correct."
   ]
  },
  {
   "cell_type": "code",
   "execution_count": null,
   "id": "c17a9233",
   "metadata": {},
   "outputs": [],
   "source": [
    "#Python is a user friendly coding language typically limited to executing a single statement (except, apparently, in certain configurations) at a time. It is distinct because it is streamlined and interprets certain kinds of negative space, like indentations, as a meaningful statement in the execution of code."
   ]
  },
  {
   "cell_type": "code",
   "execution_count": null,
   "id": "167eafec",
   "metadata": {},
   "outputs": [],
   "source": [
    "#Jupyter notebook is a web-based environment, even if most files are actually hosted on an individual computer. Among its competitors are environments like PyCharm, though of course their functions are not 100% analagous."
   ]
  }
 ],
 "metadata": {
  "language_info": {
   "codemirror_mode": {
    "name": "ipython",
    "version": 3
   },
   "file_extension": ".py",
   "mimetype": "text/x-python",
   "name": "python",
   "nbconvert_exporter": "python",
   "pygments_lexer": "ipython3",
   "version": "3.9.1"
  }
 },
 "nbformat": 4,
 "nbformat_minor": 5
}
